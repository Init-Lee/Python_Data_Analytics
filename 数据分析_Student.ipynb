{
 "cells": [
  {
   "cell_type": "markdown",
   "id": "04c6ba66-153c-454b-b3ca-591d99781f1e",
   "metadata": {},
   "source": [
    "# 数据分析-学生练习\n",
    "\n",
    "**注意：文档中有`@@@`显示的地方，需要你补全代码***"
   ]
  },
  {
   "cell_type": "markdown",
   "id": "aa7d452e-9c8d-4750-97e7-f1b47ba398ef",
   "metadata": {},
   "source": [
    "## 1.互联网数据采集"
   ]
  },
  {
   "cell_type": "markdown",
   "id": "d1887988-76e9-4789-a1ba-6de42525a839",
   "metadata": {
    "tags": []
   },
   "source": [
    "### 1.1 获取网页 P84"
   ]
  },
  {
   "cell_type": "code",
   "execution_count": null,
   "id": "2091f5c7-23c5-4556-85a5-daa20b7ac5c0",
   "metadata": {},
   "outputs": [],
   "source": [
    "import requests\n",
    "\n",
    "url = @@@  #网址赋值\n",
    "html = requests.get(url)       #用GET方法获取网页数据\n",
    "html.encoding = \"utf-8\"        #设定网页编码方式：utf-8\n",
    "\n",
    "print(@@@)  #输出结果"
   ]
  },
  {
   "cell_type": "markdown",
   "id": "b3d44cc2-22df-4c4a-acf5-8392cb5b1d6a",
   "metadata": {
    "tags": []
   },
   "source": [
    "### 1.2  网页解析 P85\n",
    "\n",
    "beautifulsoup使用参考文档<br>\n",
    "https://beautifulsoup.readthedocs.io/zh_CN/v4.4.0/index.html#id13"
   ]
  },
  {
   "cell_type": "markdown",
   "id": "bb701ac4-2505-422b-87e8-242cdf8cd2cd",
   "metadata": {},
   "source": [
    "1. 网页排版整理"
   ]
  },
  {
   "cell_type": "code",
   "execution_count": null,
   "id": "7a15f70b-66a9-49bd-a9dd-11ed3591e214",
   "metadata": {},
   "outputs": [],
   "source": [
    "#整理网页\n",
    "import requests\n",
    "from bs4 import BeautifulSoup #新导入的库文件\n",
    "\n",
    "url = \"https://www.baidu.com\"  #网址赋值\n",
    "html = requests.get(url)       #用GET方法获取网页数据\n",
    "html.encoding = \"utf-8\"        #设定网页编码方式：utf-8\n",
    "\n",
    "#---------new code here--------\n",
    "soup = @@@               #建立soup对象，获取网页源代码\n",
    "print(soup.prettify())   #将网页源代码排版整理输出，以便观察相关结果"
   ]
  },
  {
   "cell_type": "markdown",
   "id": "1adb38c4-83af-437d-9cb4-a5e4682363e5",
   "metadata": {},
   "source": [
    "2. 抓取title属性"
   ]
  },
  {
   "cell_type": "code",
   "execution_count": null,
   "id": "db5ff840-bcf2-4143-9fe5-ebeb921de558",
   "metadata": {},
   "outputs": [],
   "source": [
    "import requests\n",
    "from bs4 import BeautifulSoup #新导入的库文件\n",
    "\n",
    "url = \"https://www.baidu.com\"  #网址赋值\n",
    "html = requests.get(url)       #用GET方法获取网页数据\n",
    "html.encoding = \"utf-8\"        #设定网页编码方式：utf-8\n",
    "\n",
    "soup = BeautifulSoup(html.text,'html.parser')  #建立soup对象，获取网页源代码\n",
    "\n",
    "#---------new code here---------------------------------\n",
    "#使用select方法，抓取相关属性\n",
    "select_data =   @@@     #这里我们选择title，你们可以根据结果修改别的标签进行查看     \n",
    "\n",
    "print(select_data)   #输出抓取结果"
   ]
  },
  {
   "cell_type": "markdown",
   "id": "3c1e51ec-8f96-4f4a-9a11-d600a20973d0",
   "metadata": {},
   "source": [
    "### 1.3 数据存储 P85\n",
    "注意：一定要先运行上面代码！！再运行本行代码！！！！"
   ]
  },
  {
   "cell_type": "code",
   "execution_count": null,
   "id": "7c515e02-5cc2-4324-8f7c-b15b6b6c350e",
   "metadata": {},
   "outputs": [],
   "source": [
    "import time #导入时间库\n",
    "\n",
    "'''前期数据准备、文件路径、数据预处理'''\n",
    "file_path = './html_solve.txt'   #文件保存路径\n",
    "localtime = time.asctime(time.localtime(time.time()))#加入时间戳\n",
    "write_string = str(select_data) + localtime + '\\n'\n",
    "\n",
    "'''\n",
    "write data 将数据写入文件\n",
    "    mode = \"a+\" 模式:\n",
    "    开一个文件用于读写。\n",
    "    如果该文件已存在，文件指针将会放在文件的结尾。文件打开时会是追加模式。\n",
    "    如果该文件不存在，创建新文件用于读写。\n",
    "'''\n",
    "with open(  @@@   ) as file: \n",
    "    @@@\n",
    "    \n",
    "#end with\n",
    "\n",
    "\n",
    "'''open file to check data'''\n",
    "with open(file_path) as file_object:\n",
    "    data = file_object.read()\n",
    "    print(data)\n",
    "#end with"
   ]
  },
  {
   "cell_type": "markdown",
   "id": "eb326c51-384c-41ea-bac4-e1a50061acb5",
   "metadata": {},
   "source": [
    "## 2.数据导入"
   ]
  },
  {
   "cell_type": "markdown",
   "id": "11a98560-faa3-48be-a735-c00fe520d29b",
   "metadata": {},
   "source": [
    "### 2.1 导入数据并检查数据完整度"
   ]
  },
  {
   "cell_type": "code",
   "execution_count": null,
   "id": "86a78c65-ff3e-4e50-8ee5-18537d0a2dc0",
   "metadata": {},
   "outputs": [],
   "source": [
    "import pandas as pd #导入pandas库\n",
    "\n",
    "DataFilePath = @@@ #需要分析的数据文件路径\n",
    "\n",
    "BikeDataFrame = @@@  #建立BikeDataFrame对象访问数据\n",
    "BikeDataFrame.@@@ #显示数据基本信息\n",
    "BikeDataFrame.@@@ #打印查看数据前5条信息具体内容"
   ]
  },
  {
   "cell_type": "markdown",
   "id": "343717be-ee10-4b71-9f12-408bf26d4f6e",
   "metadata": {},
   "source": [
    "### 2.2 处理重复值 P88"
   ]
  },
  {
   "cell_type": "code",
   "execution_count": null,
   "id": "70715fa8-4f6d-4eee-b580-e84efafe2f63",
   "metadata": {},
   "outputs": [],
   "source": [
    "BikeDataFrame.@@@(subset = [@@@], keep = 'first' , inplace = True)\n",
    "BikeDataFrame.info()\n",
    "BikeDataFrame.head()"
   ]
  },
  {
   "cell_type": "markdown",
   "id": "84717fde-79de-4cd4-8de9-c5c519351724",
   "metadata": {},
   "source": [
    "### 2.3 处理缺失值(Nan) P88"
   ]
  },
  {
   "cell_type": "code",
   "execution_count": null,
   "id": "1cdccd6f-f0c9-44da-8e5d-f2253b69ba4a",
   "metadata": {},
   "outputs": [],
   "source": [
    "BikeDataFrame.@@@(axis = 0,inplace = True)\n",
    "BikeDataFrame.info()\n",
    "BikeDataFrame.head()"
   ]
  },
  {
   "cell_type": "markdown",
   "id": "bedc35d6-ee5a-4ab2-b566-e0d6fd0c278e",
   "metadata": {},
   "source": [
    "## 3.数据清洗\n",
    "首先运行之前的代码"
   ]
  },
  {
   "cell_type": "code",
   "execution_count": null,
   "id": "99039686-f481-4147-ad2b-6083492b90e1",
   "metadata": {},
   "outputs": [],
   "source": [
    "import pandas as pd #导入pandas库\n",
    "\n",
    "DataFilePath = \"./bike_data.csv\" #需要分析的数据文件路径\n",
    "\n",
    "BikeDataFrame = pd.read_csv(DataFilePath,encoding='gb2312') #建立BikeDataFrame对象访问数据\n",
    "\n",
    "#-----初步处理-------\n",
    "BikeDataFrame.drop_duplicates(subset = ['bike_id','datetime','date'],  keep = 'first' , inplace = True) #删除重复的数据\n",
    "BikeDataFrame.dropna(axis = 0,inplace = True) #删除空值数据"
   ]
  },
  {
   "cell_type": "markdown",
   "id": "eff549bc-0ff7-42e4-90ca-4bc4822ddc86",
   "metadata": {},
   "source": [
    "### 3.1 查看不符合条件的时间数据"
   ]
  },
  {
   "cell_type": "code",
   "execution_count": null,
   "id": "3e333e7b-2909-4871-8209-b5a22f09a96a",
   "metadata": {},
   "outputs": [],
   "source": [
    "#获取不符合条件\n",
    "BikeDataFrame[(@@@)|(BikeDataFrame['datetime'].str.len()==7)]"
   ]
  },
  {
   "cell_type": "markdown",
   "id": "d9c1d2b3-e522-46c6-9915-a123d3e0012c",
   "metadata": {},
   "source": [
    "### 3.2 处理不符合条件的时间数据（体验直接运行代码）\n",
    "注意结果，多了一列`hour`数据"
   ]
  },
  {
   "cell_type": "code",
   "execution_count": null,
   "id": "ad269153-9255-4119-8c38-9ef9fa66af41",
   "metadata": {},
   "outputs": [],
   "source": [
    "#建立转换函数\n",
    "def changeTime(datetime):\n",
    "    datetime = datetime.rjust(8,'0') #右对齐数据  \n",
    "    hour = int(datetime[:2])         #提取小时，转换整形\n",
    "    if(hour >= 24):      #对符合条件的进行取余处理\n",
    "        hour = hour % 24\n",
    "        datetime = str(hour).rjust(2,'0')+datetime[2:]\n",
    "    #end if\n",
    "    return datetime,hour #返回处理好的时间数据，增加新的小时数据\n",
    "#end changeTime\n",
    "\n",
    "#通过apply功能调用上述处理功能函数，校准时间数据格式，同时增加‘hour’列数据\n",
    "BikeDataFrame['datetime'],BikeDataFrame['hour'] = zip(*BikeDataFrame.datetime.apply(changeTime)) \n",
    "\n",
    "#-----显示处理后果-------\n",
    "BikeDataFrame.info() #显示初步处理完的数据\n",
    "BikeDataFrame.head(5) #打印前面5条查看数据具体样式"
   ]
  },
  {
   "cell_type": "markdown",
   "id": "429085f0-cd8f-4dd7-9631-336ef944094a",
   "metadata": {},
   "source": [
    "### 3.3 查看包含'#VALUE!'数值的数据"
   ]
  },
  {
   "cell_type": "code",
   "execution_count": null,
   "id": "d39b35dc-f9a1-491e-a7f0-8a49809a3864",
   "metadata": {},
   "outputs": [],
   "source": [
    "BikeDataFrame[ @@@ == '#VALUE!']"
   ]
  },
  {
   "cell_type": "markdown",
   "id": "f08a39af-9d65-4075-885a-4846d291e093",
   "metadata": {},
   "source": [
    "### 3.4 删除包含'#VALUE!'数值的数据\n",
    "对比3.2步骤处理完成后数据总量，"
   ]
  },
  {
   "cell_type": "code",
   "execution_count": null,
   "id": "d3c8e6be-e7e9-490f-98fb-d3d6fb883090",
   "metadata": {},
   "outputs": [],
   "source": [
    "#删除包含'#VALUE!'数值的数据-----------\n",
    "BikeDataFrame.drop(BikeDataFrame[BikeDataFrame['temp_value']=='#VALUE!'].index,inplace=True)\n",
    "#将'temp_value'类型转换为float\n",
    "BikeDataFrame[@@@] = BikeDataFrame[@@@].astype('float')\n",
    "\n",
    "#-----显示处理后果-------\n",
    "BikeDataFrame.info() #显示初步处理完的数据\n",
    "BikeDataFrame.head(5) #打印前面5条查看数据具体样式"
   ]
  },
  {
   "cell_type": "markdown",
   "id": "8ae1a5b0-bab1-40c3-a3ad-9f0010615eb4",
   "metadata": {},
   "source": [
    "# 4.数据探索和可视化"
   ]
  },
  {
   "cell_type": "markdown",
   "id": "d3fa7099-789a-4f5c-bace-54c62c39e50d",
   "metadata": {},
   "source": [
    "## 4.1 共享单车四季租用数量占比"
   ]
  },
  {
   "cell_type": "markdown",
   "id": "a2561209-986e-4896-b559-038680cad5e3",
   "metadata": {},
   "source": [
    "1. 导入数据"
   ]
  },
  {
   "cell_type": "code",
   "execution_count": 1,
   "id": "af49f0eb-e689-4587-b425-5bc29bba7794",
   "metadata": {},
   "outputs": [
    {
     "name": "stderr",
     "output_type": "stream",
     "text": [
      "/var/folders/f7/r5q6zjwj0jz890wvb2prfl3m0000gn/T/ipykernel_35365/4277465874.py:5: DtypeWarning: Columns (8,9,10,11,13) have mixed types. Specify dtype option on import or set low_memory=False.\n",
      "  BikeDataFrame = pd.read_csv(DataFilePath,encoding='gb2312') #建立BikeDataFrame对象访问数据\n"
     ]
    }
   ],
   "source": [
    "import pandas as pd #导入pandas库\n",
    "\n",
    "DataFilePath = \"./bike_data.csv\" #需要分析的数据文件路径\n",
    "\n",
    "BikeDataFrame = pd.read_csv(DataFilePath,encoding='gb2312') #建立BikeDataFrame对象访问数据\n",
    "\n",
    "#-----初步处理-------\n",
    "BikeDataFrame.drop_duplicates(subset = ['bike_id','datetime','date'],  keep = 'first' , inplace = True) #删除重复的数据"
   ]
  },
  {
   "cell_type": "markdown",
   "id": "9480b3ad-d68f-4f27-a633-545bdcf300db",
   "metadata": {},
   "source": [
    "2. 显示图表"
   ]
  },
  {
   "cell_type": "code",
   "execution_count": null,
   "id": "db80b54f-b431-4545-988f-cbf6885e83db",
   "metadata": {},
   "outputs": [],
   "source": [
    "%run Font_Style.py\n",
    "\n",
    "SeasonCount = BikeDataFrame[@@@].value_counts()#选取season属性数据，同时进行计数\n",
    "SeasonCount.plot.pie(title =\"共享单车四季租用数量占比图\",figsize=(8,8),autopct = '%1.1f%%',ylabel=\"\")"
   ]
  },
  {
   "cell_type": "markdown",
   "id": "c63e35b3-b875-463e-8eed-f173d6699f12",
   "metadata": {},
   "source": [
    "## 4.2 不同天气情况下共享单车的租用数量"
   ]
  },
  {
   "cell_type": "markdown",
   "id": "76ec6414-dcef-48cf-8d6c-a54746860bd3",
   "metadata": {},
   "source": [
    "1. 导入数据"
   ]
  },
  {
   "cell_type": "code",
   "execution_count": null,
   "id": "e58230e7-e86b-4e2f-80f2-8d829e213353",
   "metadata": {},
   "outputs": [],
   "source": [
    "%run import_data_CleanUP.py\n",
    "%run Font_Style.py"
   ]
  },
  {
   "cell_type": "markdown",
   "id": "bec2d243-53bc-45cf-8d35-7dca4a1f9cf3",
   "metadata": {},
   "source": [
    "2. 显示图表"
   ]
  },
  {
   "cell_type": "code",
   "execution_count": null,
   "id": "8ff7f038-5522-46bf-9710-3f0ccd579f24",
   "metadata": {},
   "outputs": [],
   "source": [
    "WeatherData = BikeDataFrame[@@@].value_counts() #统计不同天气情况下租赁的车辆\n",
    "WeatherData.plot.bar(title =@@@,xlabel = @@@,ylabel = \"amount\",\n",
    "                     figsize=(@@@,@@@),grid = True) #画柱状图"
   ]
  },
  {
   "cell_type": "markdown",
   "id": "bbd2c7f0-00b2-4cd8-9629-4945870fa8e9",
   "metadata": {},
   "source": [
    "## 4.3 某一个月中温度对共享单车租用影响（以6月份数据为例)"
   ]
  },
  {
   "cell_type": "markdown",
   "id": "12af551b-3bb6-4371-b427-79cd27ce987a",
   "metadata": {},
   "source": [
    "1. 导入数据"
   ]
  },
  {
   "cell_type": "code",
   "execution_count": null,
   "id": "c38af5ef-c07f-4868-a868-2d37ab360ba8",
   "metadata": {},
   "outputs": [],
   "source": [
    "%run import_data_CleanUP.py\n",
    "%run Font_Style.py"
   ]
  },
  {
   "cell_type": "markdown",
   "id": "e5df8ee9-a711-4822-8426-cfb8d6580369",
   "metadata": {},
   "source": [
    "2. 查看是否有异常数据"
   ]
  },
  {
   "cell_type": "code",
   "execution_count": null,
   "id": "55f0cdbc-c69f-416d-8089-4745c3b9b113",
   "metadata": {},
   "outputs": [],
   "source": [
    "TempData = BikeDataFrame[@@@] #选取6月份数据。\n",
    "TempData['temp_value'] = TempData[@@@].apply(round) #整理温度数据，进行四舍五入\n",
    "TempData['temp_value'].plot.@@@(figsize=(5,7),grid = True) #调用一下箱图查看一下是否有异常数值"
   ]
  },
  {
   "cell_type": "markdown",
   "id": "e6b942f4-e2d8-4210-a1ce-24f63b7900ee",
   "metadata": {},
   "source": [
    "3. 显示温度数据"
   ]
  },
  {
   "cell_type": "code",
   "execution_count": null,
   "id": "4511c4a8-b41a-4a9c-b7dc-f2b31b17b68a",
   "metadata": {},
   "outputs": [],
   "source": [
    "TempCount = TempData['temp_value'].@@@.sort_index() #统计不同温度下租赁单车的数据,结果并按照温度排序\n",
    "TempCount.@@@(title=\"6月份温度变化与单车租用数量趋势图\" ,xlabel = \"Temperature(C)\",ylabel = 'Bike Sum',\n",
    "               figsize=(20,10),grid = True,xticks = @@@) #将数据结果用折线图显示"
   ]
  },
  {
   "cell_type": "markdown",
   "id": "d3bc84e2-57bc-401d-84d4-a35d799cd4fd",
   "metadata": {},
   "source": [
    "## 4.4 某月每小时单车租用情况"
   ]
  },
  {
   "cell_type": "markdown",
   "id": "3c7c6148-f135-420c-ab50-142d9015f937",
   "metadata": {},
   "source": [
    "1. 导入数据"
   ]
  },
  {
   "cell_type": "code",
   "execution_count": null,
   "id": "02d253d0-d51d-42b6-9236-52e285d805d4",
   "metadata": {},
   "outputs": [],
   "source": [
    "%run import_data_CleanUP.py\n",
    "%run Font_Style.py"
   ]
  },
  {
   "cell_type": "markdown",
   "id": "8031c40e-010d-45ec-80e2-be962a8c909e",
   "metadata": {},
   "source": [
    "2. 显示时间数据"
   ]
  },
  {
   "cell_type": "code",
   "execution_count": null,
   "id": "81e3f727-2bfb-4338-8cd3-3ac25d3b684c",
   "metadata": {},
   "outputs": [],
   "source": [
    "HourData = BikeDataFrame[@@@] #选取7月份数据。\n",
    "HourCount = HourData[@@@].value_counts().sort_index()\n",
    "HourCount.plot(title=\"7月每小时共享单车流量趋势图\" ,xlabel = \"Hour\",ylabel = 'Bike Sum',\n",
    "               figsize=(20,10),grid = True,xticks = range(0,24))"
   ]
  }
 ],
 "metadata": {
  "kernelspec": {
   "display_name": "Python 3 (ipykernel)",
   "language": "python",
   "name": "python3"
  },
  "language_info": {
   "codemirror_mode": {
    "name": "ipython",
    "version": 3
   },
   "file_extension": ".py",
   "mimetype": "text/x-python",
   "name": "python",
   "nbconvert_exporter": "python",
   "pygments_lexer": "ipython3",
   "version": "3.9.12"
  }
 },
 "nbformat": 4,
 "nbformat_minor": 5
}
